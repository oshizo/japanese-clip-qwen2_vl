{
 "cells": [
  {
   "cell_type": "code",
   "execution_count": 1,
   "metadata": {},
   "outputs": [],
   "source": [
    "import os\n",
    "\n",
    "os.environ[\"CUDA_VISIBLE_DEVICES\"] = \"0\""
   ]
  },
  {
   "cell_type": "markdown",
   "metadata": {},
   "source": [
    "# Datasets"
   ]
  },
  {
   "cell_type": "code",
   "execution_count": 2,
   "metadata": {},
   "outputs": [
    {
     "data": {
      "application/vnd.jupyter.widget-view+json": {
       "model_id": "e3a04d40e26b46f8b8d254580b937629",
       "version_major": 2,
       "version_minor": 0
      },
      "text/plain": [
       "Resolving data files:   0%|          | 0/28 [00:00<?, ?it/s]"
      ]
     },
     "metadata": {},
     "output_type": "display_data"
    },
    {
     "data": {
      "application/vnd.jupyter.widget-view+json": {
       "model_id": "4a88067a29914fb7a929f519e04b407a",
       "version_major": 2,
       "version_minor": 0
      },
      "text/plain": [
       "Resolving data files:   0%|          | 0/28 [00:00<?, ?it/s]"
      ]
     },
     "metadata": {},
     "output_type": "display_data"
    }
   ],
   "source": [
    "import datasets\n",
    "\n",
    "# stair captions\n",
    "ds_stair_captions = datasets.load_dataset(\n",
    "    \"shunk031/STAIR-Captions\", \"v1.2.0\", split=\"validation\"\n",
    ").select(\n",
    "    range(1000)\n",
    ")  # 先頭1000件のみ使用"
   ]
  },
  {
   "cell_type": "code",
   "execution_count": 3,
   "metadata": {},
   "outputs": [],
   "source": [
    "# jdocqa\n",
    "ds_questions = datasets.load_dataset(\n",
    "    \"oshizo/japanese-text-image-retrieval\", \"question\"\n",
    ")[\"test\"]\n",
    "ds_contexts = datasets.load_dataset(\"oshizo/japanese-text-image-retrieval\", \"context\")[\n",
    "    \"test\"\n",
    "]\n",
    "ds_corpus = datasets.load_dataset(\"oshizo/japanese-text-image-retrieval\", \"corpus\")[\n",
    "    \"test\"\n",
    "]"
   ]
  },
  {
   "cell_type": "markdown",
   "metadata": {},
   "source": [
    "# Evaluator"
   ]
  },
  {
   "cell_type": "code",
   "execution_count": 4,
   "metadata": {},
   "outputs": [],
   "source": [
    "from evaluation_utils import MultiModalInformationRetrievalEvaluator, resize_image"
   ]
  },
  {
   "cell_type": "code",
   "execution_count": 5,
   "metadata": {},
   "outputs": [],
   "source": [
    "question_image_evaluator = MultiModalInformationRetrievalEvaluator(\n",
    "    queries={item[\"query_id\"]: item[\"text\"] for item in ds_questions},\n",
    "    corpus={item[\"image_id\"]: resize_image(item[\"image\"], 584) for item in ds_corpus},\n",
    "    relevant_docs={\n",
    "        item[\"query_id\"]: item[\"positive_image_ids\"] for item in ds_questions\n",
    "    },\n",
    "    name=\"jdocqa-question-image\",\n",
    "    batch_size=1,\n",
    "    show_progress_bar=False,\n",
    "    ndcg_at_k=[1, 3, 5, 10],\n",
    ")"
   ]
  },
  {
   "cell_type": "code",
   "execution_count": 6,
   "metadata": {},
   "outputs": [],
   "source": [
    "context_image_evaluator = MultiModalInformationRetrievalEvaluator(\n",
    "    queries={item[\"query_id\"]: item[\"text\"] for item in ds_contexts},\n",
    "    corpus={item[\"image_id\"]: resize_image(item[\"image\"], 584) for item in ds_corpus},\n",
    "    relevant_docs={\n",
    "        item[\"query_id\"]: item[\"positive_image_ids\"] for item in ds_contexts\n",
    "    },\n",
    "    name=\"jdocqa-context-image\",\n",
    "    batch_size=1,\n",
    "    show_progress_bar=False,\n",
    "    ndcg_at_k=[1, 3, 5, 10],\n",
    ")"
   ]
  },
  {
   "cell_type": "code",
   "execution_count": 7,
   "metadata": {},
   "outputs": [],
   "source": [
    "stair_captions_evaluator = MultiModalInformationRetrievalEvaluator(\n",
    "    queries={\n",
    "        f\"{i:05d}\": item[\"annotations\"][\"caption\"][0]\n",
    "        for i, item in enumerate(ds_stair_captions)\n",
    "    },  # 先頭のキャプションを使用\n",
    "    corpus={\n",
    "        f\"{i:05d}\": resize_image(item[\"image\"], 224)\n",
    "        for i, item in enumerate(ds_stair_captions)\n",
    "    },\n",
    "    relevant_docs={\n",
    "        f\"{i:05d}\": [f\"{i:05d}\"] for i, item in enumerate(ds_stair_captions)\n",
    "    },\n",
    "    name=\"stair_captions\",\n",
    "    batch_size=1,\n",
    "    show_progress_bar=False,\n",
    "    ndcg_at_k=[1, 3, 5, 10],\n",
    ")"
   ]
  },
  {
   "cell_type": "markdown",
   "metadata": {},
   "source": [
    "# Evaluate"
   ]
  },
  {
   "cell_type": "markdown",
   "metadata": {},
   "source": [
    "## japanese-clip-qwen2_vl-exp-0101"
   ]
  },
  {
   "cell_type": "code",
   "execution_count": 8,
   "metadata": {},
   "outputs": [
    {
     "name": "stderr",
     "output_type": "stream",
     "text": [
      "The argument `trust_remote_code` is to be used with Auto classes. It has no effect here and is ignored.\n"
     ]
    }
   ],
   "source": [
    "from sentence_transformers import SentenceTransformer\n",
    "\n",
    "model = SentenceTransformer(\n",
    "    \"oshizo/japanese-clip-qwen2_vl-exp-0101\", trust_remote_code=True\n",
    ")"
   ]
  },
  {
   "cell_type": "code",
   "execution_count": 9,
   "metadata": {},
   "outputs": [
    {
     "data": {
      "text/plain": [
       "{'jdocqa-question-image_cosine_accuracy@1': 0.35374149659863946,\n",
       " 'jdocqa-question-image_cosine_accuracy@3': 0.5153061224489796,\n",
       " 'jdocqa-question-image_cosine_accuracy@5': 0.5858843537414966,\n",
       " 'jdocqa-question-image_cosine_accuracy@10': 0.6683673469387755,\n",
       " 'jdocqa-question-image_cosine_precision@1': np.float64(0.35374149659863946),\n",
       " 'jdocqa-question-image_cosine_precision@3': np.float64(0.17205215419501133),\n",
       " 'jdocqa-question-image_cosine_precision@5': np.float64(0.11734693877551021),\n",
       " 'jdocqa-question-image_cosine_precision@10': np.float64(0.06709183673469388),\n",
       " 'jdocqa-question-image_cosine_recall@1': np.float64(0.35253684807256236),\n",
       " 'jdocqa-question-image_cosine_recall@3': np.float64(0.5134637188208617),\n",
       " 'jdocqa-question-image_cosine_recall@5': np.float64(0.5840419501133787),\n",
       " 'jdocqa-question-image_cosine_recall@10': np.float64(0.6665958049886621),\n",
       " 'jdocqa-question-image_cosine_ndcg@1': np.float64(0.35374149659863946),\n",
       " 'jdocqa-question-image_cosine_ndcg@3': np.float64(0.44737474886630085),\n",
       " 'jdocqa-question-image_cosine_ndcg@5': np.float64(0.4762829098703811),\n",
       " 'jdocqa-question-image_cosine_ndcg@10': np.float64(0.5029430251693102),\n",
       " 'jdocqa-question-image_cosine_mrr@10': 0.4522280936183997,\n",
       " 'jdocqa-question-image_cosine_map@100': np.float64(0.45976159329491983)}"
      ]
     },
     "execution_count": 9,
     "metadata": {},
     "output_type": "execute_result"
    }
   ],
   "source": [
    "question_image_evaluator(model)"
   ]
  },
  {
   "cell_type": "code",
   "execution_count": 10,
   "metadata": {},
   "outputs": [
    {
     "data": {
      "text/plain": [
       "{'jdocqa-context-image_cosine_accuracy@1': 0.7474489795918368,\n",
       " 'jdocqa-context-image_cosine_accuracy@3': 0.8341836734693877,\n",
       " 'jdocqa-context-image_cosine_accuracy@5': 0.8605442176870748,\n",
       " 'jdocqa-context-image_cosine_accuracy@10': 0.9030612244897959,\n",
       " 'jdocqa-context-image_cosine_precision@1': np.float64(0.7474489795918368),\n",
       " 'jdocqa-context-image_cosine_precision@3': np.float64(0.27976190476190477),\n",
       " 'jdocqa-context-image_cosine_precision@5': np.float64(0.173469387755102),\n",
       " 'jdocqa-context-image_cosine_precision@10': np.float64(0.091156462585034),\n",
       " 'jdocqa-context-image_cosine_recall@1': np.float64(0.742842970521542),\n",
       " 'jdocqa-context-image_cosine_recall@3': np.float64(0.8317743764172335),\n",
       " 'jdocqa-context-image_cosine_recall@5': np.float64(0.858843537414966),\n",
       " 'jdocqa-context-image_cosine_recall@10': np.float64(0.9019982993197279),\n",
       " 'jdocqa-context-image_cosine_ndcg@1': np.float64(0.7474489795918368),\n",
       " 'jdocqa-context-image_cosine_ndcg@3': np.float64(0.7956702087633971),\n",
       " 'jdocqa-context-image_cosine_ndcg@5': np.float64(0.8067708656557318),\n",
       " 'jdocqa-context-image_cosine_ndcg@10': np.float64(0.8209520659919534),\n",
       " 'jdocqa-context-image_cosine_mrr@10': 0.7965679327286472,\n",
       " 'jdocqa-context-image_cosine_map@100': np.float64(0.7982399439387469)}"
      ]
     },
     "execution_count": 10,
     "metadata": {},
     "output_type": "execute_result"
    }
   ],
   "source": [
    "context_image_evaluator(model)"
   ]
  },
  {
   "cell_type": "code",
   "execution_count": 11,
   "metadata": {},
   "outputs": [
    {
     "data": {
      "text/plain": [
       "{'stair_captions_cosine_accuracy@1': 0.492,\n",
       " 'stair_captions_cosine_accuracy@3': 0.712,\n",
       " 'stair_captions_cosine_accuracy@5': 0.804,\n",
       " 'stair_captions_cosine_accuracy@10': 0.891,\n",
       " 'stair_captions_cosine_precision@1': np.float64(0.492),\n",
       " 'stair_captions_cosine_precision@3': np.float64(0.2373333333333333),\n",
       " 'stair_captions_cosine_precision@5': np.float64(0.1608),\n",
       " 'stair_captions_cosine_precision@10': np.float64(0.08910000000000001),\n",
       " 'stair_captions_cosine_recall@1': np.float64(0.492),\n",
       " 'stair_captions_cosine_recall@3': np.float64(0.712),\n",
       " 'stair_captions_cosine_recall@5': np.float64(0.804),\n",
       " 'stair_captions_cosine_recall@10': np.float64(0.891),\n",
       " 'stair_captions_cosine_ndcg@1': np.float64(0.492),\n",
       " 'stair_captions_cosine_ndcg@3': np.float64(0.6198064464857181),\n",
       " 'stair_captions_cosine_ndcg@5': np.float64(0.6578510347982717),\n",
       " 'stair_captions_cosine_ndcg@10': np.float64(0.6866645199828476),\n",
       " 'stair_captions_cosine_mrr@10': 0.6214964285714286,\n",
       " 'stair_captions_cosine_map@100': np.float64(0.6276085010410457)}"
      ]
     },
     "execution_count": 11,
     "metadata": {},
     "output_type": "execute_result"
    }
   ],
   "source": [
    "stair_captions_evaluator(model)"
   ]
  },
  {
   "cell_type": "code",
   "execution_count": 12,
   "metadata": {},
   "outputs": [],
   "source": [
    "import torch\n",
    "\n",
    "del model\n",
    "torch.cuda.empty_cache()"
   ]
  },
  {
   "cell_type": "markdown",
   "metadata": {},
   "source": [
    "## jina-clip-v2"
   ]
  },
  {
   "cell_type": "code",
   "execution_count": 13,
   "metadata": {},
   "outputs": [
    {
     "name": "stderr",
     "output_type": "stream",
     "text": [
      "/home/oshizo/repo/venv/lib/python3.11/site-packages/flash_attn/ops/triton/layer_norm.py:958: FutureWarning: `torch.cuda.amp.custom_fwd(args...)` is deprecated. Please use `torch.amp.custom_fwd(args..., device_type='cuda')` instead.\n",
      "  @custom_fwd\n",
      "/home/oshizo/repo/venv/lib/python3.11/site-packages/flash_attn/ops/triton/layer_norm.py:1017: FutureWarning: `torch.cuda.amp.custom_bwd(args...)` is deprecated. Please use `torch.amp.custom_bwd(args..., device_type='cuda')` instead.\n",
      "  @custom_bwd\n"
     ]
    }
   ],
   "source": [
    "from sentence_transformers import SentenceTransformer\n",
    "\n",
    "model = SentenceTransformer(\"jinaai/jina-clip-v2\", trust_remote_code=True)"
   ]
  },
  {
   "cell_type": "code",
   "execution_count": 14,
   "metadata": {},
   "outputs": [
    {
     "data": {
      "text/plain": [
       "{'jdocqa-question-image_cosine_accuracy@1': 0.10459183673469388,\n",
       " 'jdocqa-question-image_cosine_accuracy@3': 0.17772108843537415,\n",
       " 'jdocqa-question-image_cosine_accuracy@5': 0.2185374149659864,\n",
       " 'jdocqa-question-image_cosine_accuracy@10': 0.29081632653061223,\n",
       " 'jdocqa-question-image_cosine_precision@1': np.float64(0.10459183673469388),\n",
       " 'jdocqa-question-image_cosine_precision@3': np.float64(0.059240362811791375),\n",
       " 'jdocqa-question-image_cosine_precision@5': np.float64(0.04370748299319729),\n",
       " 'jdocqa-question-image_cosine_precision@10': np.float64(0.029081632653061226),\n",
       " 'jdocqa-question-image_cosine_recall@1': np.float64(0.10459183673469388),\n",
       " 'jdocqa-question-image_cosine_recall@3': np.float64(0.17772108843537415),\n",
       " 'jdocqa-question-image_cosine_recall@5': np.float64(0.2185374149659864),\n",
       " 'jdocqa-question-image_cosine_recall@10': np.float64(0.29017857142857145),\n",
       " 'jdocqa-question-image_cosine_ndcg@1': np.float64(0.10459183673469388),\n",
       " 'jdocqa-question-image_cosine_ndcg@3': np.float64(0.14716854310617236),\n",
       " 'jdocqa-question-image_cosine_ndcg@5': np.float64(0.1638528158675588),\n",
       " 'jdocqa-question-image_cosine_ndcg@10': np.float64(0.1870034411192885),\n",
       " 'jdocqa-question-image_cosine_mrr@10': 0.15542125580390878,\n",
       " 'jdocqa-question-image_cosine_map@100': np.float64(0.16771743947373455)}"
      ]
     },
     "execution_count": 14,
     "metadata": {},
     "output_type": "execute_result"
    }
   ],
   "source": [
    "question_image_evaluator(model)"
   ]
  },
  {
   "cell_type": "code",
   "execution_count": 15,
   "metadata": {},
   "outputs": [
    {
     "data": {
      "text/plain": [
       "{'jdocqa-context-image_cosine_accuracy@1': 0.22789115646258504,\n",
       " 'jdocqa-context-image_cosine_accuracy@3': 0.35799319727891155,\n",
       " 'jdocqa-context-image_cosine_accuracy@5': 0.42346938775510207,\n",
       " 'jdocqa-context-image_cosine_accuracy@10': 0.5034013605442177,\n",
       " 'jdocqa-context-image_cosine_precision@1': np.float64(0.22789115646258504),\n",
       " 'jdocqa-context-image_cosine_precision@3': np.float64(0.11961451247165532),\n",
       " 'jdocqa-context-image_cosine_precision@5': np.float64(0.08486394557823129),\n",
       " 'jdocqa-context-image_cosine_precision@10': np.float64(0.050510204081632655),\n",
       " 'jdocqa-context-image_cosine_recall@1': np.float64(0.22732426303854875),\n",
       " 'jdocqa-context-image_cosine_recall@3': np.float64(0.35685941043083896),\n",
       " 'jdocqa-context-image_cosine_recall@5': np.float64(0.42233560090702943),\n",
       " 'jdocqa-context-image_cosine_recall@10': np.float64(0.502267573696145),\n",
       " 'jdocqa-context-image_cosine_ndcg@1': np.float64(0.22789115646258504),\n",
       " 'jdocqa-context-image_cosine_ndcg@3': np.float64(0.30350410939130973),\n",
       " 'jdocqa-context-image_cosine_ndcg@5': np.float64(0.33039889144257795),\n",
       " 'jdocqa-context-image_cosine_ndcg@10': np.float64(0.3562161645819301),\n",
       " 'jdocqa-context-image_cosine_mrr@10': 0.31087693013713386,\n",
       " 'jdocqa-context-image_cosine_map@100': np.float64(0.32321147427325214)}"
      ]
     },
     "execution_count": 15,
     "metadata": {},
     "output_type": "execute_result"
    }
   ],
   "source": [
    "context_image_evaluator(model)"
   ]
  },
  {
   "cell_type": "code",
   "execution_count": 16,
   "metadata": {},
   "outputs": [
    {
     "data": {
      "text/plain": [
       "{'stair_captions_cosine_accuracy@1': 0.524,\n",
       " 'stair_captions_cosine_accuracy@3': 0.738,\n",
       " 'stair_captions_cosine_accuracy@5': 0.813,\n",
       " 'stair_captions_cosine_accuracy@10': 0.891,\n",
       " 'stair_captions_cosine_precision@1': np.float64(0.524),\n",
       " 'stair_captions_cosine_precision@3': np.float64(0.24599999999999997),\n",
       " 'stair_captions_cosine_precision@5': np.float64(0.16260000000000002),\n",
       " 'stair_captions_cosine_precision@10': np.float64(0.0891),\n",
       " 'stair_captions_cosine_recall@1': np.float64(0.524),\n",
       " 'stair_captions_cosine_recall@3': np.float64(0.738),\n",
       " 'stair_captions_cosine_recall@5': np.float64(0.813),\n",
       " 'stair_captions_cosine_recall@10': np.float64(0.891),\n",
       " 'stair_captions_cosine_ndcg@1': np.float64(0.524),\n",
       " 'stair_captions_cosine_ndcg@3': np.float64(0.6498538845142899),\n",
       " 'stair_captions_cosine_ndcg@5': np.float64(0.6809275613463065),\n",
       " 'stair_captions_cosine_ndcg@10': np.float64(0.7064990222181987),\n",
       " 'stair_captions_cosine_mrr@10': 0.6474376984126983,\n",
       " 'stair_captions_cosine_map@100': np.float64(0.652640649219963)}"
      ]
     },
     "execution_count": 16,
     "metadata": {},
     "output_type": "execute_result"
    }
   ],
   "source": [
    "stair_captions_evaluator(model)"
   ]
  },
  {
   "cell_type": "code",
   "execution_count": 17,
   "metadata": {},
   "outputs": [],
   "source": [
    "import torch\n",
    "\n",
    "del model\n",
    "torch.cuda.empty_cache()"
   ]
  },
  {
   "cell_type": "markdown",
   "metadata": {},
   "source": [
    "## Colqwen2-1.0"
   ]
  },
  {
   "cell_type": "code",
   "execution_count": 18,
   "metadata": {},
   "outputs": [
    {
     "name": "stderr",
     "output_type": "stream",
     "text": [
      "`Qwen2VLRotaryEmbedding` can now be fully parameterized by passing the model config through the `config` argument. All other arguments will be removed in v4.46\n"
     ]
    }
   ],
   "source": [
    "import torch\n",
    "from evaluation_utils import ColQwen2Wrapper\n",
    "from colpali_engine.models import ColQwen2, ColQwen2Processor\n",
    "\n",
    "model_name = \"vidore/colqwen2-v1.0-merged\"\n",
    "colqwen2 = ColQwen2.from_pretrained(\n",
    "    model_name,\n",
    "    torch_dtype=torch.bfloat16,\n",
    "    device_map=\"cuda:0\",  # or \"mps\" if on Apple Silicon\n",
    ").eval()\n",
    "processor = ColQwen2Processor.from_pretrained(model_name)\n",
    "model = ColQwen2Wrapper(colqwen2, processor)"
   ]
  },
  {
   "cell_type": "code",
   "execution_count": 22,
   "metadata": {},
   "outputs": [
    {
     "data": {
      "text/plain": [
       "{'jdocqa-question-image_maxsim_accuracy@1': 0.5221088435374149,\n",
       " 'jdocqa-question-image_maxsim_accuracy@3': 0.6641156462585034,\n",
       " 'jdocqa-question-image_maxsim_accuracy@5': 0.7074829931972789,\n",
       " 'jdocqa-question-image_maxsim_accuracy@10': 0.766156462585034,\n",
       " 'jdocqa-question-image_maxsim_precision@1': np.float64(0.5221088435374149),\n",
       " 'jdocqa-question-image_maxsim_precision@3': np.float64(0.22250566893424034),\n",
       " 'jdocqa-question-image_maxsim_precision@5': np.float64(0.14217687074829932),\n",
       " 'jdocqa-question-image_maxsim_precision@10': np.float64(0.07712585034013604),\n",
       " 'jdocqa-question-image_maxsim_recall@1': np.float64(0.5196286848072562),\n",
       " 'jdocqa-question-image_maxsim_recall@3': np.float64(0.6621315192743764),\n",
       " 'jdocqa-question-image_maxsim_recall@5': np.float64(0.7054988662131519),\n",
       " 'jdocqa-question-image_maxsim_recall@10': np.float64(0.7638180272108843),\n",
       " 'jdocqa-question-image_maxsim_ndcg@1': np.float64(0.5221088435374149),\n",
       " 'jdocqa-question-image_maxsim_ndcg@3': np.float64(0.6047474554138218),\n",
       " 'jdocqa-question-image_maxsim_ndcg@5': np.float64(0.622532767910311),\n",
       " 'jdocqa-question-image_maxsim_ndcg@10': np.float64(0.6418921002470572),\n",
       " 'jdocqa-question-image_maxsim_mrr@10': 0.6040205566353523,\n",
       " 'jdocqa-question-image_maxsim_map@100': np.float64(0.6080170665429918)}"
      ]
     },
     "execution_count": 22,
     "metadata": {},
     "output_type": "execute_result"
    }
   ],
   "source": [
    "# 既に別のモデルでevaluatorを動かしている場合のみ、score_functionsの再設定が必要\n",
    "question_image_evaluator.score_functions = {model.similarity_fn_name: model.similarity}\n",
    "question_image_evaluator.score_function_names = [model.similarity_fn_name]\n",
    "question_image_evaluator(model)"
   ]
  },
  {
   "cell_type": "code",
   "execution_count": 23,
   "metadata": {},
   "outputs": [
    {
     "data": {
      "text/plain": [
       "{'jdocqa-context-image_maxsim_accuracy@1': 0.6964285714285714,\n",
       " 'jdocqa-context-image_maxsim_accuracy@3': 0.7772108843537415,\n",
       " 'jdocqa-context-image_maxsim_accuracy@5': 0.8018707482993197,\n",
       " 'jdocqa-context-image_maxsim_accuracy@10': 0.8282312925170068,\n",
       " 'jdocqa-context-image_maxsim_precision@1': np.float64(0.6964285714285714),\n",
       " 'jdocqa-context-image_maxsim_precision@3': np.float64(0.2604875283446712),\n",
       " 'jdocqa-context-image_maxsim_precision@5': np.float64(0.16122448979591836),\n",
       " 'jdocqa-context-image_maxsim_precision@10': np.float64(0.08333333333333333),\n",
       " 'jdocqa-context-image_maxsim_recall@1': np.float64(0.6918225623582767),\n",
       " 'jdocqa-context-image_maxsim_recall@3': np.float64(0.7743764172335601),\n",
       " 'jdocqa-context-image_maxsim_recall@5': np.float64(0.7990362811791383),\n",
       " 'jdocqa-context-image_maxsim_recall@10': np.float64(0.8256802721088435),\n",
       " 'jdocqa-context-image_maxsim_ndcg@1': np.float64(0.6964285714285714),\n",
       " 'jdocqa-context-image_maxsim_ndcg@3': np.float64(0.7425693367243253),\n",
       " 'jdocqa-context-image_maxsim_ndcg@5': np.float64(0.7525213654005922),\n",
       " 'jdocqa-context-image_maxsim_ndcg@10': np.float64(0.7612170553611276),\n",
       " 'jdocqa-context-image_maxsim_mrr@10': 0.7423648229132929,\n",
       " 'jdocqa-context-image_maxsim_map@100': np.float64(0.7441139702837373)}"
      ]
     },
     "execution_count": 23,
     "metadata": {},
     "output_type": "execute_result"
    }
   ],
   "source": [
    "context_image_evaluator.score_functions = {model.similarity_fn_name: model.similarity}\n",
    "context_image_evaluator.score_function_names = [model.similarity_fn_name]\n",
    "context_image_evaluator(model)"
   ]
  },
  {
   "cell_type": "code",
   "execution_count": 21,
   "metadata": {},
   "outputs": [
    {
     "data": {
      "text/plain": [
       "{'stair_captions_maxsim_accuracy@1': 0.327,\n",
       " 'stair_captions_maxsim_accuracy@3': 0.539,\n",
       " 'stair_captions_maxsim_accuracy@5': 0.64,\n",
       " 'stair_captions_maxsim_accuracy@10': 0.767,\n",
       " 'stair_captions_maxsim_precision@1': np.float64(0.327),\n",
       " 'stair_captions_maxsim_precision@3': np.float64(0.17966666666666667),\n",
       " 'stair_captions_maxsim_precision@5': np.float64(0.128),\n",
       " 'stair_captions_maxsim_precision@10': np.float64(0.0767),\n",
       " 'stair_captions_maxsim_recall@1': np.float64(0.327),\n",
       " 'stair_captions_maxsim_recall@3': np.float64(0.539),\n",
       " 'stair_captions_maxsim_recall@5': np.float64(0.64),\n",
       " 'stair_captions_maxsim_recall@10': np.float64(0.767),\n",
       " 'stair_captions_maxsim_ndcg@1': np.float64(0.327),\n",
       " 'stair_captions_maxsim_ndcg@3': np.float64(0.4493662191964322),\n",
       " 'stair_captions_maxsim_ndcg@5': np.float64(0.4904104215148692),\n",
       " 'stair_captions_maxsim_ndcg@10': np.float64(0.5315000129257906),\n",
       " 'stair_captions_maxsim_mrr@10': 0.45792222222222184,\n",
       " 'stair_captions_maxsim_map@100': np.float64(0.46756720249817363)}"
      ]
     },
     "execution_count": 21,
     "metadata": {},
     "output_type": "execute_result"
    }
   ],
   "source": [
    "stair_captions_evaluator.score_functions = {model.similarity_fn_name: model.similarity}\n",
    "stair_captions_evaluator.score_function_names = [model.similarity_fn_name]\n",
    "stair_captions_evaluator(model)"
   ]
  },
  {
   "cell_type": "code",
   "execution_count": 24,
   "metadata": {},
   "outputs": [],
   "source": [
    "import torch\n",
    "\n",
    "del model\n",
    "torch.cuda.empty_cache()"
   ]
  },
  {
   "cell_type": "code",
   "execution_count": null,
   "metadata": {},
   "outputs": [],
   "source": []
  }
 ],
 "metadata": {
  "kernelspec": {
   "display_name": "Python 3 (ipykernel)",
   "language": "python",
   "name": "python3"
  },
  "language_info": {
   "codemirror_mode": {
    "name": "ipython",
    "version": 3
   },
   "file_extension": ".py",
   "mimetype": "text/x-python",
   "name": "python",
   "nbconvert_exporter": "python",
   "pygments_lexer": "ipython3",
   "version": "3.11.6"
  }
 },
 "nbformat": 4,
 "nbformat_minor": 2
}
